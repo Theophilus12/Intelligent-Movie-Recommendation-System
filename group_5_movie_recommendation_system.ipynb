{
  "metadata": {
    "kernelspec": {
      "language": "python",
      "display_name": "Python 3",
      "name": "python3"
    },
    "language_info": {
      "name": "python",
      "version": "3.7.12",
      "mimetype": "text/x-python",
      "codemirror_mode": {
        "name": "ipython",
        "version": 3
      },
      "pygments_lexer": "ipython3",
      "nbconvert_exporter": "python",
      "file_extension": ".py"
    },
    "colab": {
      "provenance": [],
      "include_colab_link": true
    }
  },
  "nbformat_minor": 0,
  "nbformat": 4,
  "cells": [
    {
      "cell_type": "markdown",
      "metadata": {
        "id": "view-in-github",
        "colab_type": "text"
      },
      "source": [
        "<a href=\"https://colab.research.google.com/github/Theophilus12/Intelligent-Movie-Recommendation-System/blob/main/group_5_movie_recommendation_system.ipynb\" target=\"_parent\"><img src=\"https://colab.research.google.com/assets/colab-badge.svg\" alt=\"Open In Colab\"/></a>"
      ]
    },
    {
      "cell_type": "code",
      "source": [
        "!wget https://files.grouplens.org/datasets/movielens/ml-25m.zip"
      ],
      "metadata": {
        "execution": {
          "iopub.status.busy": "2022-01-04T19:24:31.023098Z",
          "iopub.execute_input": "2022-01-04T19:24:31.023366Z",
          "iopub.status.idle": "2022-01-04T19:24:51.151969Z",
          "shell.execute_reply.started": "2022-01-04T19:24:31.023336Z",
          "shell.execute_reply": "2022-01-04T19:24:51.151017Z"
        },
        "trusted": true,
        "id": "6cbnz-egroyH"
      },
      "execution_count": null,
      "outputs": []
    },
    {
      "cell_type": "code",
      "source": [
        "import zipfile\n",
        "z= zipfile.ZipFile('./ml-25m.zip')\n",
        "z.extractall()"
      ],
      "metadata": {
        "execution": {
          "iopub.status.busy": "2022-01-04T19:24:51.153946Z",
          "iopub.execute_input": "2022-01-04T19:24:51.154219Z",
          "iopub.status.idle": "2022-01-04T19:24:59.447664Z",
          "shell.execute_reply.started": "2022-01-04T19:24:51.154190Z",
          "shell.execute_reply": "2022-01-04T19:24:59.446934Z"
        },
        "trusted": true,
        "id": "JUdn0MqAroyJ"
      },
      "execution_count": null,
      "outputs": []
    },
    {
      "cell_type": "code",
      "source": [
        "!head ./ml-25m/ratings.csv"
      ],
      "metadata": {
        "execution": {
          "iopub.status.busy": "2022-01-04T19:24:59.449265Z",
          "iopub.execute_input": "2022-01-04T19:24:59.449569Z",
          "iopub.status.idle": "2022-01-04T19:25:00.197973Z",
          "shell.execute_reply.started": "2022-01-04T19:24:59.449528Z",
          "shell.execute_reply": "2022-01-04T19:25:00.197326Z"
        },
        "trusted": true,
        "id": "J2NmPjVRroyK"
      },
      "execution_count": null,
      "outputs": []
    },
    {
      "cell_type": "code",
      "source": [
        "import pandas as pd\n",
        "import numpy as np\n",
        "import matplotlib.pyplot as plt\n",
        "import seaborn as sns"
      ],
      "metadata": {
        "execution": {
          "iopub.status.busy": "2022-01-04T19:25:00.200113Z",
          "iopub.execute_input": "2022-01-04T19:25:00.200327Z",
          "iopub.status.idle": "2022-01-04T19:25:01.127536Z",
          "shell.execute_reply.started": "2022-01-04T19:25:00.200302Z",
          "shell.execute_reply": "2022-01-04T19:25:01.126780Z"
        },
        "trusted": true,
        "id": "__Mo6xogroyK"
      },
      "execution_count": null,
      "outputs": []
    },
    {
      "cell_type": "code",
      "source": [
        "import scipy.sparse as sparse\n",
        "from scipy.sparse.linalg import spsolve\n",
        "import random\n",
        "\n",
        "from sklearn.preprocessing import MinMaxScaler\n",
        "\n",
        "import implicit"
      ],
      "metadata": {
        "execution": {
          "iopub.status.busy": "2022-01-04T19:25:01.128608Z",
          "iopub.execute_input": "2022-01-04T19:25:01.128847Z",
          "iopub.status.idle": "2022-01-04T19:25:01.282453Z",
          "shell.execute_reply.started": "2022-01-04T19:25:01.128822Z",
          "shell.execute_reply": "2022-01-04T19:25:01.281687Z"
        },
        "trusted": true,
        "id": "eprquQ8RroyK"
      },
      "execution_count": null,
      "outputs": []
    },
    {
      "cell_type": "code",
      "source": [
        "ratings = pd.read_csv('./ml-25m/ratings.csv')\n",
        "movies = pd.read_csv('./ml-25m/movies.csv')\n",
        "tags = pd.read_csv('./ml-25m/tags.csv')"
      ],
      "metadata": {
        "execution": {
          "iopub.status.busy": "2022-01-04T19:25:01.284640Z",
          "iopub.execute_input": "2022-01-04T19:25:01.285219Z",
          "iopub.status.idle": "2022-01-04T19:25:19.472368Z",
          "shell.execute_reply.started": "2022-01-04T19:25:01.285174Z",
          "shell.execute_reply": "2022-01-04T19:25:19.470739Z"
        },
        "trusted": true,
        "id": "oDeUdoneroyL"
      },
      "execution_count": null,
      "outputs": []
    },
    {
      "cell_type": "code",
      "source": [
        "tags.head()"
      ],
      "metadata": {
        "execution": {
          "iopub.status.busy": "2022-01-04T19:25:19.474980Z",
          "iopub.execute_input": "2022-01-04T19:25:19.475364Z",
          "iopub.status.idle": "2022-01-04T19:25:19.506092Z",
          "shell.execute_reply.started": "2022-01-04T19:25:19.475315Z",
          "shell.execute_reply": "2022-01-04T19:25:19.505360Z"
        },
        "trusted": true,
        "id": "Ti4zLq6yroyL"
      },
      "execution_count": null,
      "outputs": []
    },
    {
      "cell_type": "code",
      "source": [
        "ratings.head()"
      ],
      "metadata": {
        "execution": {
          "iopub.status.busy": "2022-01-04T19:25:19.507481Z",
          "iopub.execute_input": "2022-01-04T19:25:19.507972Z",
          "iopub.status.idle": "2022-01-04T19:25:19.521372Z",
          "shell.execute_reply.started": "2022-01-04T19:25:19.507936Z",
          "shell.execute_reply": "2022-01-04T19:25:19.520299Z"
        },
        "trusted": true,
        "id": "fJkODSfiroyM"
      },
      "execution_count": null,
      "outputs": []
    },
    {
      "cell_type": "code",
      "source": [
        "movies.tail()"
      ],
      "metadata": {
        "execution": {
          "iopub.status.busy": "2022-01-04T19:25:19.522504Z",
          "iopub.execute_input": "2022-01-04T19:25:19.523247Z",
          "iopub.status.idle": "2022-01-04T19:25:19.532560Z",
          "shell.execute_reply.started": "2022-01-04T19:25:19.523210Z",
          "shell.execute_reply": "2022-01-04T19:25:19.531929Z"
        },
        "trusted": true,
        "id": "fgRkHzzVroyM"
      },
      "execution_count": null,
      "outputs": []
    },
    {
      "cell_type": "code",
      "source": [
        "movies['genres'].value_counts()"
      ],
      "metadata": {
        "execution": {
          "iopub.status.busy": "2022-01-04T19:25:19.535747Z",
          "iopub.execute_input": "2022-01-04T19:25:19.536146Z",
          "iopub.status.idle": "2022-01-04T19:25:19.558991Z",
          "shell.execute_reply.started": "2022-01-04T19:25:19.536117Z",
          "shell.execute_reply": "2022-01-04T19:25:19.558342Z"
        },
        "trusted": true,
        "id": "4e3QbcHOroyM"
      },
      "execution_count": null,
      "outputs": []
    },
    {
      "cell_type": "markdown",
      "source": [
        "# EDA"
      ],
      "metadata": {
        "id": "nuDhtWWTroyM"
      }
    },
    {
      "cell_type": "code",
      "source": [
        "colors = ['steelblue', 'seagreen', 'black', 'darkorange', 'purple', 'firebrick', 'slategrey']"
      ],
      "metadata": {
        "execution": {
          "iopub.status.busy": "2022-01-04T19:25:19.560423Z",
          "iopub.execute_input": "2022-01-04T19:25:19.560697Z",
          "iopub.status.idle": "2022-01-04T19:25:19.565189Z",
          "shell.execute_reply.started": "2022-01-04T19:25:19.560661Z",
          "shell.execute_reply": "2022-01-04T19:25:19.564371Z"
        },
        "trusted": true,
        "id": "78wDzRm8royP"
      },
      "execution_count": null,
      "outputs": []
    },
    {
      "cell_type": "code",
      "source": [
        "ratings['rating'].value_counts()"
      ],
      "metadata": {
        "execution": {
          "iopub.status.busy": "2022-01-04T19:25:19.566508Z",
          "iopub.execute_input": "2022-01-04T19:25:19.566731Z",
          "iopub.status.idle": "2022-01-04T19:25:19.841942Z",
          "shell.execute_reply.started": "2022-01-04T19:25:19.566705Z",
          "shell.execute_reply": "2022-01-04T19:25:19.841113Z"
        },
        "trusted": true,
        "id": "6jhnb7oXroyQ"
      },
      "execution_count": null,
      "outputs": []
    },
    {
      "cell_type": "code",
      "source": [
        "fig, ax = plt.subplots(figsize=(6, 8))\n",
        "\n",
        "sns.countplot(x='rating', data=ratings, palette=colors, ax=ax)\n",
        "\n",
        "for index, value in enumerate(sorted(ratings['rating'].value_counts())):\n",
        "    label = '{}%'.format(round((value / ratings['rating'].shape[0]) * 100, 2))\n",
        "plt.title(\"The of rating\")\n",
        "\n",
        "ax.set_xlabel('Status')\n",
        "ax.set_ylabel('Count')\n"
      ],
      "metadata": {
        "execution": {
          "iopub.status.busy": "2022-01-04T19:25:19.843585Z",
          "iopub.execute_input": "2022-01-04T19:25:19.844091Z",
          "iopub.status.idle": "2022-01-04T19:25:23.294771Z",
          "shell.execute_reply.started": "2022-01-04T19:25:19.844046Z",
          "shell.execute_reply": "2022-01-04T19:25:23.293652Z"
        },
        "trusted": true,
        "id": "TeedbcvGroyR"
      },
      "execution_count": null,
      "outputs": []
    },
    {
      "cell_type": "code",
      "source": [
        "dict_rating = ratings['rating'].value_counts().to_dict()"
      ],
      "metadata": {
        "execution": {
          "iopub.status.busy": "2022-01-04T19:25:23.296102Z",
          "iopub.execute_input": "2022-01-04T19:25:23.296388Z",
          "iopub.status.idle": "2022-01-04T19:25:23.563789Z",
          "shell.execute_reply.started": "2022-01-04T19:25:23.296354Z",
          "shell.execute_reply": "2022-01-04T19:25:23.562611Z"
        },
        "trusted": true,
        "id": "zjHs9cJcroyR"
      },
      "execution_count": null,
      "outputs": []
    },
    {
      "cell_type": "code",
      "source": [
        "pcts = []\n",
        "for index, value in enumerate(sorted(ratings['rating'].value_counts(), reverse=True)):\n",
        "    pcts.append(round((value / ratings['rating'].shape[0]) * 100, 2))\n"
      ],
      "metadata": {
        "execution": {
          "iopub.status.busy": "2022-01-04T19:25:23.565160Z",
          "iopub.execute_input": "2022-01-04T19:25:23.565490Z",
          "iopub.status.idle": "2022-01-04T19:25:23.835851Z",
          "shell.execute_reply.started": "2022-01-04T19:25:23.565446Z",
          "shell.execute_reply": "2022-01-04T19:25:23.834651Z"
        },
        "trusted": true,
        "id": "RqrlwFJhroyS"
      },
      "execution_count": null,
      "outputs": []
    },
    {
      "cell_type": "code",
      "source": [
        "rating_pct = pd.DataFrame()\n",
        "\n",
        "rating_pct['rating'] = dict_rating.keys()\n",
        "rating_pct['rating_percentage'] = pcts"
      ],
      "metadata": {
        "execution": {
          "iopub.status.busy": "2022-01-04T19:25:23.837549Z",
          "iopub.execute_input": "2022-01-04T19:25:23.838123Z",
          "iopub.status.idle": "2022-01-04T19:25:23.850075Z",
          "shell.execute_reply.started": "2022-01-04T19:25:23.838070Z",
          "shell.execute_reply": "2022-01-04T19:25:23.849228Z"
        },
        "trusted": true,
        "id": "UKvZg4N9royT"
      },
      "execution_count": null,
      "outputs": []
    },
    {
      "cell_type": "code",
      "source": [
        "rating_pct"
      ],
      "metadata": {
        "execution": {
          "iopub.status.busy": "2022-01-04T19:25:23.851235Z",
          "iopub.execute_input": "2022-01-04T19:25:23.851713Z",
          "iopub.status.idle": "2022-01-04T19:25:23.866694Z",
          "shell.execute_reply.started": "2022-01-04T19:25:23.851671Z",
          "shell.execute_reply": "2022-01-04T19:25:23.865824Z"
        },
        "trusted": true,
        "id": "Bq_4XXw9royU"
      },
      "execution_count": null,
      "outputs": []
    },
    {
      "cell_type": "code",
      "source": [
        "movies['year'] = movies['title'].apply(lambda x: x.replace(\"(\",\"\").replace(\")\",\"\").split(' ')[-1] if '(' in x else 0)\n",
        "movies['year'] = movies['year'].astype('str')\n",
        "movies['year'] = movies['year'].apply(lambda x: x if x.isdigit() else 0)\n",
        "movies['year'] = movies['year'].astype('int')"
      ],
      "metadata": {
        "execution": {
          "iopub.status.busy": "2022-01-04T19:25:23.869063Z",
          "iopub.execute_input": "2022-01-04T19:25:23.869561Z",
          "iopub.status.idle": "2022-01-04T19:25:23.991300Z",
          "shell.execute_reply.started": "2022-01-04T19:25:23.869506Z",
          "shell.execute_reply": "2022-01-04T19:25:23.990465Z"
        },
        "trusted": true,
        "id": "01TiNjKSroyU"
      },
      "execution_count": null,
      "outputs": []
    },
    {
      "cell_type": "code",
      "source": [
        "movies.head()"
      ],
      "metadata": {
        "execution": {
          "iopub.status.busy": "2022-01-04T19:25:23.992503Z",
          "iopub.execute_input": "2022-01-04T19:25:23.992739Z",
          "iopub.status.idle": "2022-01-04T19:25:24.003135Z",
          "shell.execute_reply.started": "2022-01-04T19:25:23.992712Z",
          "shell.execute_reply": "2022-01-04T19:25:24.002183Z"
        },
        "trusted": true,
        "id": "ctx315vBroyU"
      },
      "execution_count": null,
      "outputs": []
    },
    {
      "cell_type": "code",
      "source": [
        "relevant_movies = movies[movies['year'] > 2013]\n",
        "relevant_movies.head()"
      ],
      "metadata": {
        "execution": {
          "iopub.status.busy": "2022-01-04T19:25:24.004258Z",
          "iopub.execute_input": "2022-01-04T19:25:24.004642Z",
          "iopub.status.idle": "2022-01-04T19:25:24.026976Z",
          "shell.execute_reply.started": "2022-01-04T19:25:24.004597Z",
          "shell.execute_reply": "2022-01-04T19:25:24.026061Z"
        },
        "trusted": true,
        "id": "YnJ7Fd0oroyV"
      },
      "execution_count": null,
      "outputs": []
    },
    {
      "cell_type": "code",
      "source": [
        "relevant_movie_ids = relevant_movies['movieId'].to_list()\n",
        "relevant_ratings = ratings[ratings['movieId'].isin(relevant_movie_ids)]\n",
        "relevant_tags = tags[tags['movieId'].isin(relevant_movie_ids)]"
      ],
      "metadata": {
        "execution": {
          "iopub.status.busy": "2022-01-04T19:25:24.028524Z",
          "iopub.execute_input": "2022-01-04T19:25:24.029421Z",
          "iopub.status.idle": "2022-01-04T19:25:24.479669Z",
          "shell.execute_reply.started": "2022-01-04T19:25:24.029370Z",
          "shell.execute_reply": "2022-01-04T19:25:24.478885Z"
        },
        "trusted": true,
        "id": "o9iWMx19royV"
      },
      "execution_count": null,
      "outputs": []
    },
    {
      "cell_type": "code",
      "source": [
        "relevant_ratings = relevant_ratings.reset_index(drop=True)\n",
        "relevant_tags = relevant_tags.reset_index(drop=True)"
      ],
      "metadata": {
        "execution": {
          "iopub.status.busy": "2022-01-04T19:25:24.480706Z",
          "iopub.execute_input": "2022-01-04T19:25:24.480914Z",
          "iopub.status.idle": "2022-01-04T19:25:24.500342Z",
          "shell.execute_reply.started": "2022-01-04T19:25:24.480890Z",
          "shell.execute_reply": "2022-01-04T19:25:24.499597Z"
        },
        "trusted": true,
        "id": "u3qzgCwUroyV"
      },
      "execution_count": null,
      "outputs": []
    },
    {
      "cell_type": "code",
      "source": [
        "relevant_tags.head(3)"
      ],
      "metadata": {
        "execution": {
          "iopub.status.busy": "2022-01-04T19:25:24.501442Z",
          "iopub.execute_input": "2022-01-04T19:25:24.501685Z",
          "iopub.status.idle": "2022-01-04T19:25:24.511098Z",
          "shell.execute_reply.started": "2022-01-04T19:25:24.501651Z",
          "shell.execute_reply": "2022-01-04T19:25:24.510361Z"
        },
        "trusted": true,
        "id": "rrms-yAVroyW"
      },
      "execution_count": null,
      "outputs": []
    },
    {
      "cell_type": "code",
      "source": [
        "relevant_ratings.drop('timestamp', axis=1, inplace=True)"
      ],
      "metadata": {
        "execution": {
          "iopub.status.busy": "2022-01-04T19:25:24.512569Z",
          "iopub.execute_input": "2022-01-04T19:25:24.512875Z",
          "iopub.status.idle": "2022-01-04T19:25:24.526215Z",
          "shell.execute_reply.started": "2022-01-04T19:25:24.512836Z",
          "shell.execute_reply": "2022-01-04T19:25:24.525647Z"
        },
        "trusted": true,
        "id": "on8QLRO8royW"
      },
      "execution_count": null,
      "outputs": []
    },
    {
      "cell_type": "code",
      "source": [
        "relevant_ratings.head()"
      ],
      "metadata": {
        "execution": {
          "iopub.status.busy": "2022-01-04T19:25:24.527185Z",
          "iopub.execute_input": "2022-01-04T19:25:24.527485Z",
          "iopub.status.idle": "2022-01-04T19:25:24.543273Z",
          "shell.execute_reply.started": "2022-01-04T19:25:24.527452Z",
          "shell.execute_reply": "2022-01-04T19:25:24.542683Z"
        },
        "trusted": true,
        "id": "GRFQqVtjroyW"
      },
      "execution_count": null,
      "outputs": []
    },
    {
      "cell_type": "code",
      "source": [
        "is_highly_rated = relevant_ratings['rating'] >= 4.0\n",
        "tp_mvs = relevant_ratings[is_highly_rated]['movieId'].to_list()\n",
        "top_movies = relevant_tags[relevant_tags['movieId'].isin(tp_mvs)]\n",
        "top_movies.head()"
      ],
      "metadata": {
        "execution": {
          "iopub.status.busy": "2022-01-04T19:25:24.544415Z",
          "iopub.execute_input": "2022-01-04T19:25:24.545322Z",
          "iopub.status.idle": "2022-01-04T19:25:24.802703Z",
          "shell.execute_reply.started": "2022-01-04T19:25:24.545278Z",
          "shell.execute_reply": "2022-01-04T19:25:24.801780Z"
        },
        "trusted": true,
        "id": "2pOaafYyroyW"
      },
      "execution_count": null,
      "outputs": []
    },
    {
      "cell_type": "code",
      "source": [
        "top_genres = relevant_movies[relevant_movies['movieId'].isin(tp_mvs)]\n",
        "top_genres.head()"
      ],
      "metadata": {
        "execution": {
          "iopub.status.busy": "2022-01-04T19:25:24.803878Z",
          "iopub.execute_input": "2022-01-04T19:25:24.804107Z",
          "iopub.status.idle": "2022-01-04T19:25:25.011709Z",
          "shell.execute_reply.started": "2022-01-04T19:25:24.804072Z",
          "shell.execute_reply": "2022-01-04T19:25:25.010860Z"
        },
        "trusted": true,
        "id": "WNVWKj3kroyX"
      },
      "execution_count": null,
      "outputs": []
    },
    {
      "cell_type": "code",
      "source": [
        "top_genres['year'].value_counts().plot(kind='bar', figsize=(10,5))\n",
        "plt.title(\"The count plot of movies in each year\")\n",
        "plt.xlabel('Year')\n",
        "plt.ylabel('Movie Count')\n"
      ],
      "metadata": {
        "execution": {
          "iopub.status.busy": "2022-01-04T19:25:25.016080Z",
          "iopub.execute_input": "2022-01-04T19:25:25.016314Z",
          "iopub.status.idle": "2022-01-04T19:25:25.268332Z",
          "shell.execute_reply.started": "2022-01-04T19:25:25.016288Z",
          "shell.execute_reply": "2022-01-04T19:25:25.267380Z"
        },
        "trusted": true,
        "id": "NWTaf9vgroyX"
      },
      "execution_count": null,
      "outputs": []
    },
    {
      "cell_type": "code",
      "source": [
        "drop_tg_idx = top_genres[top_genres['genres'] == '(no genres listed)'].index"
      ],
      "metadata": {
        "execution": {
          "iopub.status.busy": "2022-01-04T19:25:25.269998Z",
          "iopub.execute_input": "2022-01-04T19:25:25.270298Z",
          "iopub.status.idle": "2022-01-04T19:25:25.279247Z",
          "shell.execute_reply.started": "2022-01-04T19:25:25.270258Z",
          "shell.execute_reply": "2022-01-04T19:25:25.277582Z"
        },
        "trusted": true,
        "id": "13o3T5-FroyX"
      },
      "execution_count": null,
      "outputs": []
    },
    {
      "cell_type": "code",
      "source": [
        "top_genres.drop(index = drop_tg_idx, axis = 0, inplace=True)"
      ],
      "metadata": {
        "execution": {
          "iopub.status.busy": "2022-01-04T19:25:25.280349Z",
          "iopub.execute_input": "2022-01-04T19:25:25.280556Z",
          "iopub.status.idle": "2022-01-04T19:25:25.296034Z",
          "shell.execute_reply.started": "2022-01-04T19:25:25.280531Z",
          "shell.execute_reply": "2022-01-04T19:25:25.295209Z"
        },
        "trusted": true,
        "id": "fyb3VMtrroyY"
      },
      "execution_count": null,
      "outputs": []
    },
    {
      "cell_type": "code",
      "source": [
        "tg = top_genres['genres'].value_counts()\n",
        "tg[:10].plot(kind='bar', figsize=(10,5))\n",
        "plt.title(\"The count plot of top genre\")\n",
        "plt.xlabel('Genre')\n",
        "plt.ylabel('Genre Count')\n"
      ],
      "metadata": {
        "execution": {
          "iopub.status.busy": "2022-01-04T19:25:25.297447Z",
          "iopub.execute_input": "2022-01-04T19:25:25.298236Z",
          "iopub.status.idle": "2022-01-04T19:25:25.557012Z",
          "shell.execute_reply.started": "2022-01-04T19:25:25.298195Z",
          "shell.execute_reply": "2022-01-04T19:25:25.556182Z"
        },
        "trusted": true,
        "id": "uz0brQNEroyY"
      },
      "execution_count": null,
      "outputs": []
    },
    {
      "cell_type": "code",
      "source": [
        "tag_counts = top_movies['tag'].value_counts()"
      ],
      "metadata": {
        "execution": {
          "iopub.status.busy": "2022-01-04T19:25:25.558472Z",
          "iopub.execute_input": "2022-01-04T19:25:25.558881Z",
          "iopub.status.idle": "2022-01-04T19:25:25.603991Z",
          "shell.execute_reply.started": "2022-01-04T19:25:25.558844Z",
          "shell.execute_reply": "2022-01-04T19:25:25.603204Z"
        },
        "trusted": true,
        "id": "NzstOHQsroyY"
      },
      "execution_count": null,
      "outputs": []
    },
    {
      "cell_type": "code",
      "source": [
        "tag_counts[:10].plot(kind='bar', figsize=(10,5))\n",
        "plt.title(\"The count plot of tags\")\n",
        "plt.xlabel('Tag')\n",
        "plt.ylabel('Tag Count')\n"
      ],
      "metadata": {
        "execution": {
          "iopub.status.busy": "2022-01-04T19:30:16.081167Z",
          "iopub.execute_input": "2022-01-04T19:30:16.081694Z",
          "iopub.status.idle": "2022-01-04T19:30:16.357862Z",
          "shell.execute_reply.started": "2022-01-04T19:30:16.081626Z",
          "shell.execute_reply": "2022-01-04T19:30:16.356877Z"
        },
        "trusted": true,
        "id": "8bfuAmXRroyZ"
      },
      "execution_count": null,
      "outputs": []
    },
    {
      "cell_type": "code",
      "source": [
        "relevant_ratings[relevant_ratings['userId'] == 3]['movieId'].shape"
      ],
      "metadata": {
        "execution": {
          "iopub.status.busy": "2022-01-04T19:25:25.856122Z",
          "iopub.execute_input": "2022-01-04T19:25:25.856333Z",
          "iopub.status.idle": "2022-01-04T19:25:25.864556Z",
          "shell.execute_reply.started": "2022-01-04T19:25:25.856305Z",
          "shell.execute_reply": "2022-01-04T19:25:25.863872Z"
        },
        "trusted": true,
        "id": "U5fBRYHzroyZ"
      },
      "execution_count": null,
      "outputs": []
    },
    {
      "cell_type": "code",
      "source": [
        "relevant_ratings[relevant_ratings['userId'] == 3].head()"
      ],
      "metadata": {
        "execution": {
          "iopub.status.busy": "2022-01-04T19:25:25.865763Z",
          "iopub.execute_input": "2022-01-04T19:25:25.865978Z",
          "iopub.status.idle": "2022-01-04T19:25:25.880057Z",
          "shell.execute_reply.started": "2022-01-04T19:25:25.865952Z",
          "shell.execute_reply": "2022-01-04T19:25:25.879445Z"
        },
        "trusted": true,
        "id": "M0XIZ12mroyZ"
      },
      "execution_count": null,
      "outputs": []
    },
    {
      "cell_type": "code",
      "source": [
        "relevant_ratings['userId'] = relevant_ratings['userId'].astype('category')\n",
        "relevant_ratings['movieId'] = relevant_ratings['movieId'].astype('category')\n",
        "relevant_ratings['user_id'] = relevant_ratings['userId'].cat.codes\n",
        "relevant_ratings['movie_id'] = relevant_ratings['movieId'].cat.codes"
      ],
      "metadata": {
        "execution": {
          "iopub.status.busy": "2022-01-04T19:25:25.881246Z",
          "iopub.execute_input": "2022-01-04T19:25:25.881663Z",
          "iopub.status.idle": "2022-01-04T19:25:25.934696Z",
          "shell.execute_reply.started": "2022-01-04T19:25:25.881613Z",
          "shell.execute_reply": "2022-01-04T19:25:25.933854Z"
        },
        "trusted": true,
        "id": "W1ofKVLVroyZ"
      },
      "execution_count": null,
      "outputs": []
    },
    {
      "cell_type": "code",
      "source": [
        "relevant_ratings.head()"
      ],
      "metadata": {
        "execution": {
          "iopub.status.busy": "2022-01-04T19:25:25.935904Z",
          "iopub.execute_input": "2022-01-04T19:25:25.936138Z",
          "iopub.status.idle": "2022-01-04T19:25:25.952240Z",
          "shell.execute_reply.started": "2022-01-04T19:25:25.936112Z",
          "shell.execute_reply": "2022-01-04T19:25:25.951515Z"
        },
        "trusted": true,
        "id": "V_ypeWRjroya"
      },
      "execution_count": null,
      "outputs": []
    },
    {
      "cell_type": "code",
      "source": [
        "# The implicit library expects data as a item-user matrix so we\n",
        "# create two matricies, one for fitting the model (item-user) \n",
        "# and one for recommendations (user-item)\n",
        "sparse_item_user = sparse.csr_matrix((relevant_ratings['rating'].astype(float), (relevant_ratings['movie_id'], relevant_ratings['user_id'])))\n",
        "sparse_user_item = sparse.csr_matrix((relevant_ratings['rating'].astype(float), (relevant_ratings['user_id'], relevant_ratings['movie_id'])))"
      ],
      "metadata": {
        "execution": {
          "iopub.status.busy": "2022-01-04T19:25:25.953704Z",
          "iopub.execute_input": "2022-01-04T19:25:25.954228Z",
          "iopub.status.idle": "2022-01-04T19:25:26.009713Z",
          "shell.execute_reply.started": "2022-01-04T19:25:25.954187Z",
          "shell.execute_reply": "2022-01-04T19:25:26.009077Z"
        },
        "trusted": true,
        "id": "7t1gtrbWroya"
      },
      "execution_count": null,
      "outputs": []
    },
    {
      "cell_type": "code",
      "source": [
        "# Initialize the als model and fit it using the sparse item-user matrix\n",
        "model = implicit.als.AlternatingLeastSquares(factors=128, regularization=0.1, \n",
        "                                             iterations=20)"
      ],
      "metadata": {
        "execution": {
          "iopub.status.busy": "2022-01-04T19:25:26.010557Z",
          "iopub.execute_input": "2022-01-04T19:25:26.011250Z",
          "iopub.status.idle": "2022-01-04T19:25:26.015143Z",
          "shell.execute_reply.started": "2022-01-04T19:25:26.011216Z",
          "shell.execute_reply": "2022-01-04T19:25:26.014338Z"
        },
        "trusted": true,
        "id": "dwNQnvI_roya"
      },
      "execution_count": null,
      "outputs": []
    },
    {
      "cell_type": "code",
      "source": [
        "# Calculate the confidence by multiplying it by our alpha value.\n",
        "alpha_val = 15\n",
        "data_conf = (sparse_item_user * alpha_val).astype('double')"
      ],
      "metadata": {
        "execution": {
          "iopub.status.busy": "2022-01-04T19:25:26.016370Z",
          "iopub.execute_input": "2022-01-04T19:25:26.016608Z",
          "iopub.status.idle": "2022-01-04T19:25:26.037696Z",
          "shell.execute_reply.started": "2022-01-04T19:25:26.016562Z",
          "shell.execute_reply": "2022-01-04T19:25:26.036967Z"
        },
        "trusted": true,
        "id": "TBbUJEFuroya"
      },
      "execution_count": null,
      "outputs": []
    },
    {
      "cell_type": "code",
      "source": [
        "# Fit the model\n",
        "model.fit(data_conf)"
      ],
      "metadata": {
        "execution": {
          "iopub.status.busy": "2022-01-04T19:25:26.038730Z",
          "iopub.execute_input": "2022-01-04T19:25:26.039162Z",
          "iopub.status.idle": "2022-01-04T19:26:13.912730Z",
          "shell.execute_reply.started": "2022-01-04T19:25:26.039132Z",
          "shell.execute_reply": "2022-01-04T19:26:13.912064Z"
        },
        "trusted": true,
        "id": "SHHfArYYroyb"
      },
      "execution_count": null,
      "outputs": []
    },
    {
      "cell_type": "code",
      "source": [
        "movies[movies['movieId'] == 108945]"
      ],
      "metadata": {
        "execution": {
          "iopub.status.busy": "2022-01-04T19:26:13.914134Z",
          "iopub.execute_input": "2022-01-04T19:26:13.914567Z",
          "iopub.status.idle": "2022-01-04T19:26:13.937778Z",
          "shell.execute_reply.started": "2022-01-04T19:26:13.914533Z",
          "shell.execute_reply": "2022-01-04T19:26:13.936930Z"
        },
        "trusted": true,
        "id": "svVPIOK9royb"
      },
      "execution_count": null,
      "outputs": []
    },
    {
      "cell_type": "code",
      "source": [
        "relevant_ratings[relevant_ratings['movieId'] == 108945]['userId'].shape"
      ],
      "metadata": {
        "execution": {
          "iopub.status.busy": "2022-01-04T19:26:13.941538Z",
          "iopub.execute_input": "2022-01-04T19:26:13.944458Z",
          "iopub.status.idle": "2022-01-04T19:26:13.961120Z",
          "shell.execute_reply.started": "2022-01-04T19:26:13.944400Z",
          "shell.execute_reply": "2022-01-04T19:26:13.960375Z"
        },
        "trusted": true,
        "id": "ItK9hgTgroyb"
      },
      "execution_count": null,
      "outputs": []
    },
    {
      "cell_type": "code",
      "source": [
        "# FIND SIMILAR MOVIES\n",
        "\n",
        "# Find the 10 most similar movies to Robocop\n",
        "item_id = 15\n",
        "n_similar = 10"
      ],
      "metadata": {
        "execution": {
          "iopub.status.busy": "2022-01-04T19:26:13.966001Z",
          "iopub.execute_input": "2022-01-04T19:26:13.968647Z",
          "iopub.status.idle": "2022-01-04T19:26:13.975331Z",
          "shell.execute_reply.started": "2022-01-04T19:26:13.968580Z",
          "shell.execute_reply": "2022-01-04T19:26:13.974462Z"
        },
        "trusted": true,
        "id": "qGXGugzzroyb"
      },
      "execution_count": null,
      "outputs": []
    },
    {
      "cell_type": "code",
      "source": [
        "# Get the user and item vectors from our trained model\n",
        "user_vecs = model.user_factors\n",
        "item_vecs = model.item_factors\n",
        "\n",
        "# Calculate the vector norms\n",
        "item_norms = np.sqrt((item_vecs * item_vecs).sum(axis=1))"
      ],
      "metadata": {
        "execution": {
          "iopub.status.busy": "2022-01-04T19:26:13.977190Z",
          "iopub.execute_input": "2022-01-04T19:26:13.978806Z",
          "iopub.status.idle": "2022-01-04T19:26:13.994782Z",
          "shell.execute_reply.started": "2022-01-04T19:26:13.978756Z",
          "shell.execute_reply": "2022-01-04T19:26:13.993826Z"
        },
        "trusted": true,
        "id": "yIPeYN11royb"
      },
      "execution_count": null,
      "outputs": []
    },
    {
      "cell_type": "code",
      "source": [
        "# Calculate the similarity score, grab the top N items and\n",
        "# create a list of item-score tuples of most similar movies\n",
        "\n",
        "scores = item_vecs.dot(item_vecs[item_id]) / item_norms\n",
        "top_idx = np.argpartition(scores, -n_similar)[-n_similar:]\n",
        "similar = sorted(zip(top_idx, scores[top_idx] / item_norms[item_id]), key=lambda x: -x[1])"
      ],
      "metadata": {
        "execution": {
          "iopub.status.busy": "2022-01-04T19:26:14.000089Z",
          "iopub.execute_input": "2022-01-04T19:26:14.000757Z",
          "iopub.status.idle": "2022-01-04T19:26:14.018972Z",
          "shell.execute_reply.started": "2022-01-04T19:26:14.000705Z",
          "shell.execute_reply": "2022-01-04T19:26:14.015041Z"
        },
        "trusted": true,
        "id": "X6MQisdCroyc"
      },
      "execution_count": null,
      "outputs": []
    },
    {
      "cell_type": "code",
      "source": [
        "# Print the names of our most similar movies\n",
        "for item in similar:\n",
        "    idx, score = item\n",
        "    mov = relevant_ratings['movieId'].loc[relevant_ratings['movie_id'] == idx].iloc[0]\n",
        "    print(movies[movies['movieId'] == mov]['title'].iloc[0], movies[movies['movieId'] == mov]['genres'].iloc[0], score)\n",
        "    "
      ],
      "metadata": {
        "execution": {
          "iopub.status.busy": "2022-01-04T19:26:14.020781Z",
          "iopub.execute_input": "2022-01-04T19:26:14.026522Z",
          "iopub.status.idle": "2022-01-04T19:26:14.090665Z",
          "shell.execute_reply.started": "2022-01-04T19:26:14.026447Z",
          "shell.execute_reply": "2022-01-04T19:26:14.089729Z"
        },
        "trusted": true,
        "id": "rCrQLrz3royc"
      },
      "execution_count": null,
      "outputs": []
    },
    {
      "cell_type": "code",
      "source": [
        "def recommend(user_id, sparse_user_item, user_vecs, item_vecs, num_items=10):\n",
        "\n",
        "    user_interactions = sparse_user_item[user_id,:].toarray()\n",
        "\n",
        "    user_interactions = user_interactions.reshape(-1) + 1\n",
        "    user_interactions[user_interactions > 1] = 0\n",
        "\n",
        "    rec_vector = user_vecs[user_id,:].dot(item_vecs.T).toarray()\n",
        "\n",
        "    min_max = MinMaxScaler()\n",
        "    rec_vector_scaled = min_max.fit_transform(rec_vector.reshape(-1,1))[:,0]\n",
        "    recommend_vector = user_interactions * rec_vector_scaled\n",
        "\n",
        "    item_idx = np.argsort(recommend_vector)[::-1][:num_items]\n",
        "\n",
        "    movs = []\n",
        "    scores = []\n",
        "    gens = []\n",
        "\n",
        "    for idx in item_idx:\n",
        "        stuff = relevant_ratings['movieId'].loc[relevant_ratings['movie_id'] == idx].iloc[0]\n",
        "        movs.append(movies[movies['movieId'] == stuff]['title'].iloc[0])\n",
        "        gens.append(movies[movies['movieId'] == stuff]['genres'].iloc[0])\n",
        "        scores.append(recommend_vector[idx])\n",
        "\n",
        "    recommendations = pd.DataFrame({'movies': movs, 'score': scores, 'genres': gens})\n",
        "\n",
        "    return recommendations"
      ],
      "metadata": {
        "execution": {
          "iopub.status.busy": "2022-01-04T19:26:14.096486Z",
          "iopub.execute_input": "2022-01-04T19:26:14.099334Z",
          "iopub.status.idle": "2022-01-04T19:26:14.117717Z",
          "shell.execute_reply.started": "2022-01-04T19:26:14.099267Z",
          "shell.execute_reply": "2022-01-04T19:26:14.116602Z"
        },
        "trusted": true,
        "id": "IC55cZcNroyc"
      },
      "execution_count": null,
      "outputs": []
    },
    {
      "cell_type": "code",
      "source": [
        "# Get the trained user and item vectors. We convert them to \n",
        "# csr matrices to work with our previous recommend function.\n",
        "user_vecs = sparse.csr_matrix(model.user_factors)\n",
        "item_vecs = sparse.csr_matrix(model.item_factors)"
      ],
      "metadata": {
        "execution": {
          "iopub.status.busy": "2022-01-04T19:26:14.123869Z",
          "iopub.execute_input": "2022-01-04T19:26:14.127041Z",
          "iopub.status.idle": "2022-01-04T19:26:14.419551Z",
          "shell.execute_reply.started": "2022-01-04T19:26:14.126969Z",
          "shell.execute_reply": "2022-01-04T19:26:14.418694Z"
        },
        "trusted": true,
        "id": "4ttk7BtMroyd"
      },
      "execution_count": null,
      "outputs": []
    },
    {
      "cell_type": "code",
      "source": [
        "# Create recommendations for user with id 44000\n",
        "user_id = 44000"
      ],
      "metadata": {
        "execution": {
          "iopub.status.busy": "2022-01-04T19:26:14.420825Z",
          "iopub.execute_input": "2022-01-04T19:26:14.421152Z",
          "iopub.status.idle": "2022-01-04T19:26:14.425556Z",
          "shell.execute_reply.started": "2022-01-04T19:26:14.421109Z",
          "shell.execute_reply": "2022-01-04T19:26:14.424581Z"
        },
        "trusted": true,
        "id": "EzQd0oH-royd"
      },
      "execution_count": null,
      "outputs": []
    },
    {
      "cell_type": "code",
      "source": [
        "recommendations = recommend(user_id, sparse_user_item, user_vecs, item_vecs)"
      ],
      "metadata": {
        "execution": {
          "iopub.status.busy": "2022-01-04T19:26:14.426805Z",
          "iopub.execute_input": "2022-01-04T19:26:14.427316Z",
          "iopub.status.idle": "2022-01-04T19:26:14.484488Z",
          "shell.execute_reply.started": "2022-01-04T19:26:14.427270Z",
          "shell.execute_reply": "2022-01-04T19:26:14.483814Z"
        },
        "trusted": true,
        "id": "kswJvkBBroyd"
      },
      "execution_count": null,
      "outputs": []
    },
    {
      "cell_type": "code",
      "source": [
        "recommendations"
      ],
      "metadata": {
        "execution": {
          "iopub.status.busy": "2022-01-04T19:26:14.486177Z",
          "iopub.execute_input": "2022-01-04T19:26:14.486468Z",
          "iopub.status.idle": "2022-01-04T19:26:14.497680Z",
          "shell.execute_reply.started": "2022-01-04T19:26:14.486429Z",
          "shell.execute_reply": "2022-01-04T19:26:14.496831Z"
        },
        "trusted": true,
        "id": "4QIbFNZXroyd"
      },
      "execution_count": null,
      "outputs": []
    },
    {
      "cell_type": "code",
      "source": [
        "# Get 10 of user's already watched movies \n",
        "user_movie_ids = relevant_ratings[relevant_ratings['user_id'] == user_id][:10]['movieId'].to_list()\n",
        "relevant_movies[relevant_movies['movieId'].isin(user_movie_ids)]"
      ],
      "metadata": {
        "execution": {
          "iopub.status.busy": "2022-01-04T19:26:14.499461Z",
          "iopub.execute_input": "2022-01-04T19:26:14.499799Z",
          "iopub.status.idle": "2022-01-04T19:26:14.518127Z",
          "shell.execute_reply.started": "2022-01-04T19:26:14.499757Z",
          "shell.execute_reply": "2022-01-04T19:26:14.517564Z"
        },
        "trusted": true,
        "id": "i1lc5bb7royd"
      },
      "execution_count": null,
      "outputs": []
    },
    {
      "cell_type": "code",
      "source": [
        "relevant_ratings['user_id'].nunique()"
      ],
      "metadata": {
        "execution": {
          "iopub.status.busy": "2022-01-04T19:26:14.519019Z",
          "iopub.execute_input": "2022-01-04T19:26:14.519723Z",
          "iopub.status.idle": "2022-01-04T19:26:14.532235Z",
          "shell.execute_reply.started": "2022-01-04T19:26:14.519692Z",
          "shell.execute_reply": "2022-01-04T19:26:14.531695Z"
        },
        "trusted": true,
        "id": "ezagAWRIroye"
      },
      "execution_count": null,
      "outputs": []
    },
    {
      "cell_type": "code",
      "source": [
        "# extract year from title in movie dataset\n",
        "# get years between 2014 - 2019\n",
        "# extract ids with valid years from ratings dataset\n",
        "# remove timestamp\n",
        "# check user's watched movies\n",
        "# reset user and movie ids\n",
        "\n",
        "# preprocess data for recommender system"
      ],
      "metadata": {
        "execution": {
          "iopub.status.busy": "2022-01-04T19:26:14.533606Z",
          "iopub.execute_input": "2022-01-04T19:26:14.534068Z",
          "iopub.status.idle": "2022-01-04T19:26:14.537738Z",
          "shell.execute_reply.started": "2022-01-04T19:26:14.534038Z",
          "shell.execute_reply": "2022-01-04T19:26:14.536916Z"
        },
        "trusted": true,
        "id": "Je-uMey5roye"
      },
      "execution_count": null,
      "outputs": []
    },
    {
      "cell_type": "code",
      "source": [],
      "metadata": {
        "id": "KAtjfxz4roye"
      },
      "execution_count": null,
      "outputs": []
    }
  ]
}